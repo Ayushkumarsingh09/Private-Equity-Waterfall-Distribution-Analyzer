{
 "cells": [
  {
   "cell_type": "code",
   "execution_count": null,
   "metadata": {},
   "outputs": [],
   "source": [
    "# Waterfall Analysis Demo\n",
    "\n",
    "import pandas as pd\n",
    "from src.waterfall_calculator import calculate_waterfall\n",
    "from src.investor_allocation import allocate_distributions\n",
    "from src.visualization import plot_distribution\n",
    "\n",
    "# Load data\n",
    "fund_data = pd.read_csv(\"../data/inputs/example_fund_data.csv\")\n",
    "allocation_data = \"../data/inputs/investor_allocation.csv\"\n",
    "\n",
    "# Calculate waterfall\n",
    "waterfall_data = calculate_waterfall(fund_data)\n",
    "print(\"Waterfall Calculation:\")\n",
    "print(waterfall_data.head())\n",
    "\n",
    "# Save waterfall data\n",
    "waterfall_data.to_csv(\"../data/outputs/waterfall_distribution.csv\", index=False)\n",
    "\n",
    "# Allocate distributions\n",
    "allocated_distributions = allocate_distributions(waterfall_data, allocation_data)\n",
    "print(\"Investor Allocations:\")\n",
    "print(allocated_distributions.head())\n",
    "\n",
    "# Save allocated distributions\n",
    "allocated_distributions.to_csv(\"../data/outputs/allocated_distributions.csv\", index=False)\n",
    "\n",
    "# Visualize\n",
    "plot_distribution(waterfall_data)\n"
   ]
  }
 ],
 "metadata": {
  "language_info": {
   "name": "python"
  }
 },
 "nbformat": 4,
 "nbformat_minor": 2
}
