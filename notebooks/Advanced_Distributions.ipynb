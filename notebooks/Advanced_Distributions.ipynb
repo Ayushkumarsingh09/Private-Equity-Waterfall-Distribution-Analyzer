{
 "cells": [
  {
   "cell_type": "code",
   "execution_count": null,
   "metadata": {},
   "outputs": [],
   "source": [
    "# Advanced Distributions Notebook\n",
    "\n",
    "import pandas as pd\n",
    "from src.waterfall_calculator import calculate_waterfall\n",
    "from src.investor_allocation import allocate_distributions\n",
    "from src.visualization import plot_distribution\n",
    "\n",
    "# Load data\n",
    "fund_data = pd.read_csv(\"../data/inputs/example_fund_data.csv\")\n",
    "allocation_data = \"../data/inputs/investor_allocation.csv\"\n",
    "\n",
    "# Adjust preferred return rate for scenario testing\n",
    "preferred_return_scenarios = [0.06, 0.08, 0.1]\n",
    "for rate in preferred_return_scenarios:\n",
    "    waterfall_data = calculate_waterfall(fund_data, preferred_return=rate)\n",
    "    print(f\"Waterfall with Preferred Return Rate {rate*100}%:\")\n",
    "    print(waterfall_data.head())\n",
    "    \n",
    "    # Save the results\n",
    "    file_name = f\"../data/outputs/waterfall_rate_{int(rate*100)}.csv\"\n",
    "    waterfall_data.to_csv(file_name, index=False)\n",
    "\n",
    "# Investor Allocations with Adjusted Returns\n",
    "waterfall_data = calculate_waterfall(fund_data, preferred_return=0.08)\n",
    "allocated_distributions = allocate_distributions(waterfall_data, allocation_data)\n",
    "print(\"Investor Allocations with Adjusted Returns:\")\n",
    "print(allocated_distributions.head())\n",
    "\n",
    "# Save allocated distributions\n",
    "allocated_distributions.to_csv(\"../data/outputs/allocated_distributions_scenario.csv\", index=False)\n",
    "\n",
    "# Visualization\n",
    "plot_distribution(waterfall_data)\n"
   ]
  }
 ],
 "metadata": {
  "language_info": {
   "name": "python"
  }
 },
 "nbformat": 4,
 "nbformat_minor": 2
}
